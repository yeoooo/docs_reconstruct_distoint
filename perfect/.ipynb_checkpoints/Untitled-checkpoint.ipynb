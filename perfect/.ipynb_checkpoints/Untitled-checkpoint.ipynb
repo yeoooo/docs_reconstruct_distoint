{
 "cells": [
  {
   "cell_type": "code",
   "execution_count": 1,
   "id": "230fc0ee",
   "metadata": {},
   "outputs": [],
   "source": [
    "from skimage.metrics import structural_similarity\n",
    "import cv2\n",
    "import numpy as np\n",
    "import glob\n",
    "from PIL import Image"
   ]
  },
  {
   "cell_type": "code",
   "execution_count": 2,
   "id": "57a3ec70",
   "metadata": {},
   "outputs": [],
   "source": [
    "path = \"/Users/kyeong/dev/python3/Document-Reconstructor-master/asset/*\""
   ]
  },
  {
   "cell_type": "code",
   "execution_count": 11,
   "id": "bd55ce7f",
   "metadata": {},
   "outputs": [],
   "source": [
    "#이미지 안에서 최소 공백을 찾는게 좋을 것 같다\n",
    "#zone이 몇개나 발견되는지 찾아서 반환하고\n",
    "#그 수에 따라서 zone을 재정의 하자"
   ]
  },
  {
   "cell_type": "code",
   "execution_count": 1,
   "id": "f14fba66",
   "metadata": {},
   "outputs": [],
   "source": [
    "from skimage.metrics import structural_similarity\n",
    "import cv2\n",
    "import numpy as np\n",
    "import glob\n",
    "from PIL import Image"
   ]
  },
  {
   "cell_type": "code",
   "execution_count": 3,
   "id": "c434bce9",
   "metadata": {},
   "outputs": [],
   "source": [
    "unshredded_path = \"/Users/kyeong/dev/python3/Document-Reconstructor-master/result/recontructed_h.png\"\n",
    "output_path = \"/Users/kyeong/dev/python3/Document-Reconstructor-master/result/clustered/\""
   ]
  },
  {
   "cell_type": "code",
   "execution_count": 89,
   "id": "9e840494",
   "metadata": {},
   "outputs": [],
   "source": [
    "def min_zone(unshredded):  #제일 작은 공백 찾기 \n",
    "                            #인자는 img\n",
    "    width, height = unshredded.size\n",
    "\n",
    "    unshredded = np.array(unshredded)\n",
    "    unshredded = (unshredded//128)*255#보험용\n",
    "    \n",
    "    zone = np.array([[255 for j in range(3)] for i in range(width)])\n",
    "    cnt = 0\n",
    "    cnt_arr = []\n",
    "    for i, line in enumerate(unshredded):\n",
    "        if zone.all() == line.all():#공백 감지\n",
    "            cnt += 1\n",
    "        else:\n",
    "            cnt_arr.append(cnt)\n",
    "            cnt = 0\n",
    "    cnt_arr = sorted(list(set(cnt_arr)))\n",
    "    return cnt_arr\n"
   ]
  },
  {
   "cell_type": "code",
   "execution_count": 7,
   "id": "13277126",
   "metadata": {},
   "outputs": [],
   "source": [
    "def clustering(unshredded_path, outputPath):    \n",
    "    unshredded = cv2.imread(unshredded_path)\n",
    "    image = Image.fromarray(unshredded)\n",
    "\n",
    "    width, height = image.size\n",
    "\n",
    "    zone_height = min_zone(image)\n",
    "\n",
    "    # unshredded = np.array(unshredded)\n",
    "    unshredded = (unshredded//128)*255\n",
    "\n",
    "    zone = np.array([[255 for j in range(3)] for i in range(width) for k in range(zone_height)])\n",
    "    zone = zone.astype(\"uint8\")\n",
    "    sp = 0\n",
    "    ep = 0\n",
    "    cnt = 0\n",
    "    \n",
    "    # for i, line in enumerate(unshredded):\n",
    "    #     if zone.all() == line.all():#공백 감지\n",
    "    #         print(len(line),len(zone))\n",
    "    #         ep = i #스캔 종료지점\n",
    "    #         image = Image.fromarray(unshredded)\n",
    "    #         region = image.crop((0,sp,width,ep))\n",
    "    #         region.save(f\"{outputPath + str(cnt)}.png\") \n",
    "    #         sp = i\n",
    "    #         cnt += 1\n",
    "\n",
    "    for i in range(0,height,zone_height-1):\n",
    "\n",
    "        if zone.all() == unshredded[i].all() and zone.all() == unshredded[i+1].all():\n",
    "            ep += 3\n",
    "\n",
    "        elif zone.all() == unshredded[i].all(): \n",
    "            ep = i #스캔 종료지점\n",
    "            print(ep)\n",
    "            region = image.crop((0,sp,width,ep))\n",
    "            region.save(f\"{output_path + str(cnt)}.png\") \n",
    "            sp = i+1\n",
    "            cnt += 1"
   ]
  },
  {
   "cell_type": "code",
   "execution_count": 8,
   "id": "3c804c99",
   "metadata": {},
   "outputs": [],
   "source": [
    "clustering(unshredded_path,output_path)"
   ]
  },
  {
   "cell_type": "markdown",
   "id": "cd16ac80",
   "metadata": {},
   "source": [
    "------------------------------------"
   ]
  },
  {
   "cell_type": "code",
   "execution_count": 10,
   "id": "b5aecb59",
   "metadata": {},
   "outputs": [],
   "source": [
    "unshredded = cv2.imread(unshredded_path)\n",
    "image = Image.fromarray(unshredded)\n",
    "\n",
    "width, height = image.size\n",
    "\n",
    "zone_height = min_zone(image)\n",
    "\n",
    "# unshredded = np.array(unshredded)\n",
    "unshredded = (unshredded//128)*255\n",
    "\n",
    "\n",
    "zone = np.array([[255 for j in range(3)] for i in range(width) for k in range(1)])\n",
    "zone = zone.astype(\"uint8\")\n",
    "sp = 0\n",
    "ep = 0\n",
    "cnt = 0\n",
    "\n",
    "# for i, line in enumerate(unshredded):\n",
    "#     if zone.all() == line.all():#공백 감지\n",
    "#         print(len(line),len(zone))\n",
    "#         ep = i #스캔 종료지점\n",
    "#         image = Image.fromarray(unshredded)\n",
    "#         region = image.crop((0,sp,width,ep))\n",
    "#         region.save(f\"{outputPath + str(cnt)}.png\") \n",
    "#         sp = i\n",
    "#         cnt += 1\n",
    "\n",
    "for i in range(0,height,10):\n",
    "    \n",
    "    if zone.all() == unshredded[i].all():#공백이기만 하면바로 저장\n",
    "        if zone.all() == unshredded[i+1]\n",
    "    \n",
    "        ep = i #스캔 종료지점\n",
    "#         print(ep)\n",
    "        region = image.crop((0,sp,width,ep))\n",
    "        region.save(f\"{output_path + str(cnt)}.png\") \n",
    "        sp = i+1\n",
    "        cnt += 1\n",
    "\n",
    "#         if zone.all() == unshredded[i].all():#그 칸이 공백이면 \n",
    "#         if zone.all() == unshredded[i+1].all():#다음칸도 공백이면\n",
    "#             ep += zone_height#그 칸도 추가\n",
    "#             continue\n",
    "\n",
    "\n",
    "#         else:# 다음 칸이 공백이 아니면\n",
    "#             ep = i #스캔 종료지점\n",
    "\n",
    "#         region = image.crop((0,sp,width,ep))\n",
    "#         print(region)\n",
    "#         region.save(f\"{output_path + str(cnt)}.png\") \n",
    "\n",
    "#         sp = ep\n",
    "#         cnt += 1\n",
    "    \n",
    "        \n",
    "        "
   ]
  },
  {
   "cell_type": "code",
   "execution_count": 32,
   "id": "c1550995",
   "metadata": {
    "scrolled": true
   },
   "outputs": [
    {
     "ename": "SyntaxError",
     "evalue": "invalid syntax (<ipython-input-32-821ae029c9f9>, line 1)",
     "output_type": "error",
     "traceback": [
      "\u001b[0;36m  File \u001b[0;32m\"<ipython-input-32-821ae029c9f9>\"\u001b[0;36m, line \u001b[0;32m1\u001b[0m\n\u001b[0;31m    아래 부분만 보고 판단. ..\u001b[0m\n\u001b[0m       ^\u001b[0m\n\u001b[0;31mSyntaxError\u001b[0m\u001b[0;31m:\u001b[0m invalid syntax\n"
     ]
    }
   ],
   "source": [
    "아래 부분만 보고 판단. .."
   ]
  },
  {
   "cell_type": "code",
   "execution_count": 86,
   "id": "3666e082",
   "metadata": {},
   "outputs": [],
   "source": [
    "zone = np.array([[[255 for j in range(3)] for i in range(width)] for k in range(6)])\n",
    "zone = zone.astype(\"uint8\")"
   ]
  },
  {
   "cell_type": "code",
   "execution_count": 87,
   "id": "1a3e3b1b",
   "metadata": {},
   "outputs": [],
   "source": [
    "np.set_printoptions(threshold=9999,linewidth=np.inf) "
   ]
  },
  {
   "cell_type": "code",
   "execution_count": 119,
   "id": "b25fbae1",
   "metadata": {},
   "outputs": [],
   "source": [
    "selector = 0\n",
    "sp = 0\n",
    "cnt = 0\n",
    "ep = 0\n",
    "hard_zone_height = 6\n",
    "\n",
    "for i in range(0,height//hard_zone_height):\n",
    "    \n",
    "    if zone.all() == unshredded[hard_zone_height*hard_zone_height:14*hard_zone_height+14].all():#탐색한 부분이 공백인 경우\n",
    "\n",
    "        \n",
    "        if selector == 0 or selector == 1:#이전과 상태가 다른 경우\n",
    "            ep += hard_zone_height\n",
    "            \n",
    "            selector = 1 \n",
    "            continue\n",
    "          \n",
    "        \n",
    "        elif selector != 1 or selector != 0:\n",
    "            selector = 1\n",
    "        \n",
    "    else:#탐색한부분이 글자인 경우\n",
    "        \n",
    "        if selector == 0 or selector == 2: #이전과 상태가 다른 경우\n",
    "            \n",
    "            ep += hard_zone_height#상태가 같은 경우\n",
    "            selector = 2\n",
    "            continue\n",
    "\n",
    "        elif selector != 2:\n",
    "            selector = 2\n",
    "\n",
    "    #이미지를 저장하고나서 sp를 갱신해줘야한다.\n",
    "    if ep == sp:\n",
    "        continue\n",
    "    \n",
    "    \n",
    "    region = image.crop((0,sp,width,ep))            \n",
    "    region.save(f\"{output_path + str(cnt)}.png\")\n",
    "    print(sp, ep)\n",
    "    cnt += 1\n",
    "    sp = ep\n",
    "    \n",
    "\n",
    "    "
   ]
  }
 ],
 "metadata": {
  "kernelspec": {
   "display_name": "Python 3",
   "language": "python",
   "name": "python3"
  },
  "language_info": {
   "codemirror_mode": {
    "name": "ipython",
    "version": 3
   },
   "file_extension": ".py",
   "mimetype": "text/x-python",
   "name": "python",
   "nbconvert_exporter": "python",
   "pygments_lexer": "ipython3",
   "version": "3.8.10"
  }
 },
 "nbformat": 4,
 "nbformat_minor": 5
}
